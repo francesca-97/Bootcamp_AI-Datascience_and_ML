{
 "cells": [
  {
   "cell_type": "code",
   "execution_count": 6,
   "id": "307907be-5ead-4ca5-b9f3-52b5946f5936",
   "metadata": {},
   "outputs": [
    {
     "name": "stdout",
     "output_type": "stream",
     "text": [
      "                     Name Department  Salary\n",
      "2          Teresa Alvarez         IT   84917\n",
      "6              Lisa Blake         IT   89379\n",
      "7             Devin Baker         IT   55053\n",
      "15           Carly Carter         IT   62154\n",
      "21          Michael Miles         IT   73872\n",
      "...                   ...        ...     ...\n",
      "1481      Mackenzie Davis         IT   56170\n",
      "1487        Garrett Allen         IT   85426\n",
      "1488        Nicholas Sims         IT   56819\n",
      "1490         Shawn Morgan         IT   62994\n",
      "1495  Mrs. Bridget Foster         IT   60930\n",
      "\n",
      "[270 rows x 3 columns]\n"
     ]
    }
   ],
   "source": [
    "import pandas as pd\n",
    "import numpy as np\n",
    "from faker import Faker\n",
    "\n",
    "# Inizializza Faker per generare dati casuali\n",
    "faker = Faker()\n",
    "\n",
    "# Fissa il seme per garantire riproducibilità\n",
    "np.random.seed(42)\n",
    "\n",
    "# Genera i dati\n",
    "data = {\n",
    "    'Name': [faker.name() for _ in range(1500)],  # 1500 nomi casuali\n",
    "    'Department': np.random.choice(['IT', 'HR', 'Finance', 'Marketing'], size=1500),  # Reparti casuali\n",
    "    'Salary': np.random.randint(30000, 100000, size=1500)  # Stipendi casuali tra 30k e 100k\n",
    "}\n",
    "\n",
    "# Crea il DataFrame\n",
    "employees_df = pd.DataFrame(data)\n",
    "\n",
    "\n",
    "# Filtro i dipendenti dell'IT con stipendio > 55000\n",
    "\n",
    "filtered_employees = employees_df[\n",
    "    (employees_df['Department'] == 'IT') & (employees_df['Salary'] > 55000)\n",
    "]\n",
    "\n",
    "# Visualizzo\n",
    "print(filtered_employees)\n"
   ]
  },
  {
   "cell_type": "markdown",
   "id": "646d92bf-74a6-4bdb-b1ad-4895c0b2336b",
   "metadata": {},
   "source": [
    "# Spiegazione del codice\n",
    "faker.Faker(): Inizializza un oggetto Faker per generare dati casuali. Faker è particolarmente utile per generare dati come nomi, indirizzi, numeri di telefono, ecc.\n",
    "[faker.name() for _ in range(1500)]: Utilizza una list comprehension per creare una lista di 1500 nomi casuali.\n",
    "np.random.choice: Assegna casualmente a ciascun dipendente uno dei reparti specificati ('IT', 'HR', ecc.).\n",
    "np.random.randint: Genera stipendi casuali compresi tra 30.000 e 100.000.\n",
    "pd.DataFrame(data): Crea il dataframe con i dati generati."
   ]
  },
  {
   "cell_type": "code",
   "execution_count": null,
   "id": "4484e25f-4b66-4ab8-88cb-a98e6ebb458e",
   "metadata": {},
   "outputs": [],
   "source": []
  }
 ],
 "metadata": {
  "kernelspec": {
   "display_name": "Python 3 (ipykernel)",
   "language": "python",
   "name": "python3"
  },
  "language_info": {
   "codemirror_mode": {
    "name": "ipython",
    "version": 3
   },
   "file_extension": ".py",
   "mimetype": "text/x-python",
   "name": "python",
   "nbconvert_exporter": "python",
   "pygments_lexer": "ipython3",
   "version": "3.13.1"
  }
 },
 "nbformat": 4,
 "nbformat_minor": 5
}
