{
 "cells": [
  {
   "cell_type": "code",
   "execution_count": 5,
   "id": "de06405e-8233-4dbf-96eb-1b703de6ec9a",
   "metadata": {},
   "outputs": [
    {
     "data": {
      "text/plain": [
       "Pclass\n",
       "1    38.233441\n",
       "2    29.877630\n",
       "3    25.140620\n",
       "Name: Age, dtype: float64"
      ]
     },
     "execution_count": 5,
     "metadata": {},
     "output_type": "execute_result"
    }
   ],
   "source": [
    "import pandas as pd\n",
    "\n",
    "# Carico il dataframe dal file CSV\n",
    "titanic_df = pd.read_csv('titanic.csv')\n",
    "\n",
    "# Calcolo l'età media per ogni Pclass\n",
    "age_class = titanic_df.groupby('Pclass')['Age'].mean()\n",
    "\n",
    "# Visualizza i risultati\n",
    "age_class\n"
   ]
  },
  {
   "cell_type": "code",
   "execution_count": 9,
   "id": "3025c97b-604d-464d-9666-221a39309f71",
   "metadata": {},
   "outputs": [
    {
     "name": "stdout",
     "output_type": "stream",
     "text": [
      "Numero di sopravvissuti di nome John: 10\n"
     ]
    }
   ],
   "source": [
    "# Filtra i passeggeri sopravvissuti con il nome \"John\"\n",
    "johns_survived = titanic_df[(titanic_df['Survived'] == 1) & (titanic_df['Name'].str.contains(' John '))]\n",
    "\n",
    "# Conta il numero di passeggeri sopravvissuti con il nome \"John\"\n",
    "num_johns_survived = johns_survived.shape[0]\n",
    "#Oppure \n",
    "num_johns_survived = len(johns_survived)\n",
    "\n",
    "# Visualizza il risultato\n",
    "print(f\"Numero di sopravvissuti di nome John: {num_johns_survived}\")\n"
   ]
  },
  {
   "cell_type": "code",
   "execution_count": null,
   "id": "50180048-16b6-4cbf-8d96-83034414a73b",
   "metadata": {},
   "outputs": [],
   "source": []
  }
 ],
 "metadata": {
  "kernelspec": {
   "display_name": "Python 3 (ipykernel)",
   "language": "python",
   "name": "python3"
  },
  "language_info": {
   "codemirror_mode": {
    "name": "ipython",
    "version": 3
   },
   "file_extension": ".py",
   "mimetype": "text/x-python",
   "name": "python",
   "nbconvert_exporter": "python",
   "pygments_lexer": "ipython3",
   "version": "3.13.1"
  }
 },
 "nbformat": 4,
 "nbformat_minor": 5
}
