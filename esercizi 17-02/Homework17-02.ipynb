{
 "cells": [
  {
   "cell_type": "markdown",
   "id": "e960ed19-c1ce-4c32-9ebc-0a690286672a",
   "metadata": {},
   "source": [
    "# Esercizio 1: Creare un dataframe e filtrare i dipendenti dell'IT con stipendio > 55000"
   ]
  },
  {
   "cell_type": "markdown",
   "id": "7f3a48b2-7388-41b0-9550-4fb3db7c7f76",
   "metadata": {},
   "source": [
    "Obiettivo: Creare un dataframe con almeno 1000 righe, simulando un elenco di dipendenti di un'ipotetica azienda. Poi, estrarre solo i dipendenti che lavorano nel reparto IT e hanno uno stipendio maggiore di 55000."
   ]
  },
  {
   "cell_type": "code",
   "execution_count": 48,
   "id": "0d1b3c52-3f14-49d5-a9ff-bd85b939cb97",
   "metadata": {},
   "outputs": [
    {
     "name": "stdout",
     "output_type": "stream",
     "text": [
      "               Name Department  Salary\n",
      "2        Employee_3         IT   84917\n",
      "6        Employee_7         IT   89379\n",
      "7        Employee_8         IT   55053\n",
      "15      Employee_16         IT   62154\n",
      "21      Employee_22         IT   73872\n",
      "...             ...        ...     ...\n",
      "1481  Employee_1482         IT   56170\n",
      "1487  Employee_1488         IT   85426\n",
      "1488  Employee_1489         IT   56819\n",
      "1490  Employee_1491         IT   62994\n",
      "1495  Employee_1496         IT   60930\n",
      "\n",
      "[270 rows x 3 columns]\n"
     ]
    }
   ],
   "source": [
    "import pandas as pd\n",
    "import numpy as np\n",
    "\n",
    "# Creazione di un dataframe simulato con almeno 1000 righe\n",
    "np.random.seed(42)  # Per risultati riproducibili\n",
    "data = {\n",
    "    'Name': [f'Employee_{i}' for i in range(1, 1501)], #Uso una list comprehension per creare questi nomi\n",
    "    'Department': np.random.choice(['IT', 'HR', 'Finance', 'Marketing'], size=1500), #Ogni dipendente viene assegnato casualmente a uno di questi reparti\n",
    "    'Salary': np.random.randint(30000, 100000, size=1500) \n",
    "}\n",
    "employees_df = pd.DataFrame(data) \n",
    "\n",
    "# Filtro i dipendenti dell'IT con stipendio > 55000\n",
    "\n",
    "filtered_employees = employees_df[\n",
    "    (employees_df['Department'] == 'IT') & (employees_df['Salary'] > 55000)\n",
    "]\n",
    "\n",
    "# Mostro i risultati\n",
    "print(filtered_employees)\n"
   ]
  },
  {
   "cell_type": "markdown",
   "id": "d4079a70-efd8-4a43-b4cb-a5f24b731736",
   "metadata": {},
   "source": [
    "# Alternativa usando la libreria Faker\n",
    "che genera dati di esempio realistici"
   ]
  },
  {
   "cell_type": "code",
   "execution_count": 1,
   "id": "a13111f2-7698-4402-9521-ac7e8a84f68b",
   "metadata": {},
   "outputs": [
    {
     "name": "stdout",
     "output_type": "stream",
     "text": [
      "                  Name Department  Salary\n",
      "2      Victoria Bailey         IT   84917\n",
      "6     Danielle Johnson         IT   89379\n",
      "7         Robert Pratt         IT   55053\n",
      "15          Eric Pratt         IT   62154\n",
      "21       Tammy Johnson         IT   73872\n",
      "...                ...        ...     ...\n",
      "1481       Nicole Vega         IT   56170\n",
      "1487    Aaron Galloway         IT   85426\n",
      "1488  Tyler Walker DVM         IT   56819\n",
      "1490    Charles Hudson         IT   62994\n",
      "1495  Richard Robinson         IT   60930\n",
      "\n",
      "[270 rows x 3 columns]\n"
     ]
    }
   ],
   "source": [
    "import pandas as pd\n",
    "import numpy as np\n",
    "from faker import Faker\n",
    "\n",
    "# Inizializza Faker per generare dati casuali\n",
    "faker = Faker()\n",
    "\n",
    "# Fissa il seme per garantire riproducibilità\n",
    "np.random.seed(42)\n",
    "\n",
    "# Genera i dati\n",
    "data = {\n",
    "    'Name': [faker.name() for _ in range(1500)],  # 1500 nomi casuali\n",
    "    'Department': np.random.choice(['IT', 'HR', 'Finance', 'Marketing'], size=1500),  # Reparti casuali\n",
    "    'Salary': np.random.randint(30000, 100000, size=1500)  # Stipendi casuali tra 30k e 100k\n",
    "}\n",
    "\n",
    "# Crea il DataFrame\n",
    "employees_df = pd.DataFrame(data)\n",
    "\n",
    "\n",
    "# Filtro i dipendenti dell'IT con stipendio > 55000\n",
    "\n",
    "filtered_employees = employees_df[\n",
    "    (employees_df['Department'] == 'IT') & (employees_df['Salary'] > 55000)\n",
    "]\n",
    "\n",
    "# Visualizzo\n",
    "print(filtered_employees)\n"
   ]
  },
  {
   "cell_type": "markdown",
   "id": "e168d52c-2538-425c-9a92-4e2e96cfe444",
   "metadata": {},
   "source": [
    "# Esercizio 2: Creare una colonna per categorie di prezzo, calcolare età media e gestire i valori NaN (Dataset Titanic.csv)"
   ]
  },
  {
   "cell_type": "code",
   "execution_count": 32,
   "id": "455abe17-c063-44eb-a629-72ca4041dcc8",
   "metadata": {},
   "outputs": [],
   "source": [
    "import pandas as pd\n",
    "\n",
    "# Carico il dataset Titanic\n",
    "titanic = pd.read_csv('titanic.csv')\n",
    "\n",
    "bins = [0, 50, 100, float('inf')]  # Intervalli di prezzo per le categorie\n",
    "labels = ['Low', 'Medium', 'High']  # Etichette per ogni categoria\n",
    "\n",
    "# Creo la nuova colonna\n",
    "titanic['Fare_Category'] = pd.cut(titanic['Fare'], bins=bins, labels=labels)\n",
    "\n"
   ]
  },
  {
   "cell_type": "code",
   "execution_count": 46,
   "id": "3d96a5fa-2ff5-49dd-be48-356707f64649",
   "metadata": {},
   "outputs": [
    {
     "name": "stdout",
     "output_type": "stream",
     "text": [
      "\n",
      "Età media per categoria (prima di riempire i NaN):\n",
      "Fare_Category\n",
      "Low       28.344903\n",
      "Medium    36.633333\n",
      "High      31.956667\n",
      "Name: Age, dtype: float64\n"
     ]
    }
   ],
   "source": [
    "#Calcolo età media per ciascuna categoria di prezzo\n",
    "age_category = titanic.groupby('Fare_Category', observed=True)['Age'].mean()\n",
    "print(\"\\nEtà media per categoria (prima di riempire i NaN):\")\n",
    "print(age_category)\n"
   ]
  },
  {
   "cell_type": "code",
   "execution_count": 44,
   "id": "b7ab9875-d5b9-43bc-8e5e-8cc8f45ff82a",
   "metadata": {},
   "outputs": [
    {
     "name": "stdout",
     "output_type": "stream",
     "text": [
      "\n",
      "Età media per categoria (dopo aver riempito i NaN):\n",
      "Fare_Category\n",
      "Low       28.622933\n",
      "Medium    35.531636\n",
      "High      31.743690\n",
      "Name: Age_filled, dtype: float64\n"
     ]
    }
   ],
   "source": [
    "# Riempio i NaN con la media generale di 'Age'\n",
    "titanic['Age_filled'] = titanic['Age'].fillna(titanic['Age'].mean())\n",
    "\n",
    "# Ricalcolo l'età media per categoria\n",
    "age_filled = titanic.groupby('Fare_Category',observed=True)['Age_filled'].mean()\n",
    "print(\"\\nEtà media per categoria (dopo aver riempito i NaN):\")\n",
    "print(age_filled)\n"
   ]
  },
  {
   "cell_type": "markdown",
   "id": "ba46b31c-f10e-4923-b981-8b8cbc740e74",
   "metadata": {},
   "source": [
    "# Come riempire i NaN senza alterare le medie\n",
    "Per mantenere inalterate le medie per ogni categoria, riempio i valori NaN con la media di età specifica per categoria (Fare_Category)."
   ]
  },
  {
   "cell_type": "code",
   "execution_count": 47,
   "id": "a741d0c8-8a3d-4c04-b73f-bc3241c32a98",
   "metadata": {},
   "outputs": [
    {
     "name": "stdout",
     "output_type": "stream",
     "text": [
      "\n",
      "Età media per categoria (dopo aver riempito i NaN con la media per categoria):\n",
      "Fare_Category\n",
      "Low       28.344903\n",
      "Medium    36.633333\n",
      "High      31.956667\n",
      "Name: Age_filled_group, dtype: float64\n"
     ]
    }
   ],
   "source": [
    "# Riempio i NaN con la media per categoria\n",
    "titanic['Age_filled_group'] = titanic.groupby('Fare_Category',observed=True)['Age'].transform(lambda x: x.fillna(x.mean()))\n",
    "\n",
    "# Ricalcolo l'età media per categoria\n",
    "age_group_filled = titanic.groupby('Fare_Category',observed=True)['Age_filled_group'].mean()\n",
    "print(\"\\nEtà media per categoria (dopo aver riempito i NaN con la media per categoria):\")\n",
    "print(age_group_filled)\n"
   ]
  },
  {
   "cell_type": "markdown",
   "id": "a352a48b-b2eb-40e3-81a5-3ae014fa08dd",
   "metadata": {},
   "source": [
    "Di fatto in questo ultimo caso i valori di età media non vengono alterati."
   ]
  }
 ],
 "metadata": {
  "kernelspec": {
   "display_name": "Python 3 (ipykernel)",
   "language": "python",
   "name": "python3"
  },
  "language_info": {
   "codemirror_mode": {
    "name": "ipython",
    "version": 3
   },
   "file_extension": ".py",
   "mimetype": "text/x-python",
   "name": "python",
   "nbconvert_exporter": "python",
   "pygments_lexer": "ipython3",
   "version": "3.13.1"
  }
 },
 "nbformat": 4,
 "nbformat_minor": 5
}
