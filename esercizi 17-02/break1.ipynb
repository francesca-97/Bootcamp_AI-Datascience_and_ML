{
 "cells": [
  {
   "cell_type": "code",
   "execution_count": 4,
   "id": "669cdac7-e99d-4978-82f8-4d01ff143bb5",
   "metadata": {},
   "outputs": [
    {
     "name": "stdout",
     "output_type": "stream",
     "text": [
      "DataFrame Regali di Natale:\n",
      "   Person           Gift  Price (€)\n",
      "0   Mamma        Sciarpa         15\n",
      "1    Papà          Libro         20\n",
      "2   Amico     Videogioco         50\n",
      "3   Amica   Braccialetto         25\n",
      "4  Cugino          Tazza         10\n",
      "5   Nonna       Piantina         30\n",
      "6   Nonno  Set di puzzle         20\n"
     ]
    }
   ],
   "source": [
    "import pandas as pd\n",
    "import numpy as np\n",
    "\n",
    "# Esercizio 1: DataFrame con lista di regali di Natale\n",
    "christmas_presents = {\n",
    "    \"Person\": [\"Mamma\", \"Papà\", \"Amico\", \"Amica\", \"Cugino\", \"Nonna\", \"Nonno\"],\n",
    "    \"Gift\": [\"Sciarpa\", \"Libro\", \"Videogioco\", \"Braccialetto\", \"Tazza\", \"Piantina\", \"Set di puzzle\"],\n",
    "    \"Price (€)\": [15, 20, 50, 25, 10, 30, 20],\n",
    "}\n",
    "\n",
    "df_presents = pd.DataFrame(christmas_presents)\n",
    "print(\"DataFrame Regali di Natale:\")\n",
    "print(df_presents)\n",
    "\n"
   ]
  },
  {
   "cell_type": "code",
   "execution_count": 5,
   "id": "c73c79b7-f0d8-430f-820f-b7207bd0e7ed",
   "metadata": {},
   "outputs": [
    {
     "name": "stdout",
     "output_type": "stream",
     "text": [
      "\n",
      "DataFrame con Gender e Height:\n",
      "  Gender      Height\n",
      "0   Male  178.967142\n",
      "1   Male  172.617357\n",
      "2   Male  180.476885\n",
      "3   Male  189.230299\n",
      "4   Male  171.658466\n"
     ]
    }
   ],
   "source": [
    "# Esercizio 2: DataFrame con 1000 righe, \"Gender\" e \"Height\"\n",
    "np.random.seed(42)  # Per risultati riproducibili\n",
    "\n",
    "# 500 maschi e 500 femmine\n",
    "gender = [\"Male\"] * 500 + [\"Female\"] * 500\n",
    "\n",
    "# Altezza: distribuzione normale con media 174 per maschi e 168 per femmine\n",
    "male_heights = np.random.normal(174, 10, 500)  # Media 174, Deviazione standard 10\n",
    "female_heights = np.random.normal(168, 8, 500)  # Media 168, Deviazione standard 8\n",
    "\n",
    "# Combinare tutto in un DataFrame\n",
    "height = np.concatenate([male_heights, female_heights])\n",
    "df_heights = pd.DataFrame({\"Gender\": gender, \"Height\": height})\n",
    "\n",
    "print(\"\\nDataFrame con Gender e Height:\")\n",
    "print(df_heights.head())\n"
   ]
  },
  {
   "cell_type": "code",
   "execution_count": null,
   "id": "b2b3e072-553e-4729-b897-70bd135a28ec",
   "metadata": {},
   "outputs": [],
   "source": []
  }
 ],
 "metadata": {
  "kernelspec": {
   "display_name": "Python 3 (ipykernel)",
   "language": "python",
   "name": "python3"
  },
  "language_info": {
   "codemirror_mode": {
    "name": "ipython",
    "version": 3
   },
   "file_extension": ".py",
   "mimetype": "text/x-python",
   "name": "python",
   "nbconvert_exporter": "python",
   "pygments_lexer": "ipython3",
   "version": "3.13.1"
  }
 },
 "nbformat": 4,
 "nbformat_minor": 5
}
