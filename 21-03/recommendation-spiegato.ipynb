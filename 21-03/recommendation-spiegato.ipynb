{
 "cells": [
  {
   "cell_type": "markdown",
   "id": "2afd6921",
   "metadata": {},
   "source": [
    "# Recommendation System"
   ]
  },
  {
   "cell_type": "markdown",
   "id": "fb950931",
   "metadata": {},
   "source": [
    "This notebook will explore two popular recommendation systems techniques: **Content-Based Filtering** and **Neighborhood-Based Collaborative Filtering**. These methods are widely used in recommendation systems, like those used by online platforms such as Netflix, Amazon, and Spotify, to suggest items (such as movies, products, or music) based on user preferences or item characteristics."
   ]
  },
  {
   "cell_type": "code",
   "execution_count": 1,
   "id": "aa48dcc5",
   "metadata": {},
   "outputs": [],
   "source": [
    "### Import libraries\n",
    "import numpy as np\n",
    "import pandas as pd\n",
    "from sklearn.metrics.pairwise import cosine_similarity"
   ]
  },
  {
   "cell_type": "markdown",
   "id": "c465ef42-fb36-4900-b0ce-383582a44cf4",
   "metadata": {},
   "source": [
    "np: Importa la libreria NumPy, utile per lavorare con array multidimensionali.\n",
    "\n",
    "pd: Importa la libreria Pandas, utile per manipolare dati strutturati come DataFrame.\n",
    "\n",
    "cosine_similarity: Importa la funzione per calcolare la similarità del coseno tra vettori."
   ]
  },
  {
   "cell_type": "markdown",
   "id": "295b0c3f",
   "metadata": {},
   "source": [
    "## Content-based filtering Recommendation System\n",
    "\n",
    "Recommendation system focusing on recommending items based on their attributes rather than user behavior data. \n"
   ]
  },
  {
   "cell_type": "code",
   "execution_count": 2,
   "id": "2b02ed9d",
   "metadata": {},
   "outputs": [
    {
     "data": {
      "text/html": [
       "<div>\n",
       "<style scoped>\n",
       "    .dataframe tbody tr th:only-of-type {\n",
       "        vertical-align: middle;\n",
       "    }\n",
       "\n",
       "    .dataframe tbody tr th {\n",
       "        vertical-align: top;\n",
       "    }\n",
       "\n",
       "    .dataframe thead th {\n",
       "        text-align: right;\n",
       "    }\n",
       "</style>\n",
       "<table border=\"1\" class=\"dataframe\">\n",
       "  <thead>\n",
       "    <tr style=\"text-align: right;\">\n",
       "      <th></th>\n",
       "      <th>Book</th>\n",
       "      <th>Fiction</th>\n",
       "      <th>Mystery</th>\n",
       "      <th>Adventure</th>\n",
       "    </tr>\n",
       "  </thead>\n",
       "  <tbody>\n",
       "    <tr>\n",
       "      <th>0</th>\n",
       "      <td>Harry Potter</td>\n",
       "      <td>1</td>\n",
       "      <td>0</td>\n",
       "      <td>1</td>\n",
       "    </tr>\n",
       "    <tr>\n",
       "      <th>1</th>\n",
       "      <td>Sherlock Holmes</td>\n",
       "      <td>0</td>\n",
       "      <td>1</td>\n",
       "      <td>1</td>\n",
       "    </tr>\n",
       "    <tr>\n",
       "      <th>2</th>\n",
       "      <td>Lord of the Rings</td>\n",
       "      <td>1</td>\n",
       "      <td>0</td>\n",
       "      <td>1</td>\n",
       "    </tr>\n",
       "    <tr>\n",
       "      <th>3</th>\n",
       "      <td>Gone Girl</td>\n",
       "      <td>0</td>\n",
       "      <td>1</td>\n",
       "      <td>0</td>\n",
       "    </tr>\n",
       "    <tr>\n",
       "      <th>4</th>\n",
       "      <td>Pride and Prejudice</td>\n",
       "      <td>1</td>\n",
       "      <td>0</td>\n",
       "      <td>1</td>\n",
       "    </tr>\n",
       "    <tr>\n",
       "      <th>5</th>\n",
       "      <td>Moby Dick</td>\n",
       "      <td>1</td>\n",
       "      <td>0</td>\n",
       "      <td>1</td>\n",
       "    </tr>\n",
       "    <tr>\n",
       "      <th>6</th>\n",
       "      <td>1984</td>\n",
       "      <td>1</td>\n",
       "      <td>0</td>\n",
       "      <td>0</td>\n",
       "    </tr>\n",
       "    <tr>\n",
       "      <th>7</th>\n",
       "      <td>War and Peace</td>\n",
       "      <td>1</td>\n",
       "      <td>0</td>\n",
       "      <td>1</td>\n",
       "    </tr>\n",
       "  </tbody>\n",
       "</table>\n",
       "</div>"
      ],
      "text/plain": [
       "                  Book  Fiction  Mystery  Adventure\n",
       "0         Harry Potter        1        0          1\n",
       "1      Sherlock Holmes        0        1          1\n",
       "2    Lord of the Rings        1        0          1\n",
       "3            Gone Girl        0        1          0\n",
       "4  Pride and Prejudice        1        0          1\n",
       "5            Moby Dick        1        0          1\n",
       "6                 1984        1        0          0\n",
       "7        War and Peace        1        0          1"
      ]
     },
     "execution_count": 2,
     "metadata": {},
     "output_type": "execute_result"
    }
   ],
   "source": [
    "# Sample dataset: Books and their genres\n",
    "data = {\n",
    "    'Book': ['Harry Potter', 'Sherlock Holmes', 'Lord of the Rings', 'Gone Girl', 'Pride and Prejudice', 'Moby Dick', '1984', 'War and Peace'],\n",
    "    'Fiction': [1, 0, 1, 0, 1, 1, 1, 1],\n",
    "    'Mystery': [0, 1, 0, 1, 0, 0, 0, 0],\n",
    "    'Adventure': [1, 1, 1, 0, 1, 1, 0, 1]\n",
    "}\n",
    "# convert to Dataframe\n",
    "df = pd.DataFrame(data)\n",
    "df"
   ]
  },
  {
   "cell_type": "markdown",
   "id": "0dc459fc-a273-4756-a335-f3b4af5b89a4",
   "metadata": {},
   "source": [
    "data: Un dizionario contenente i titoli dei libri e le loro caratteristiche (Fiction, Mystery, Adventure).\n",
    "\n",
    "pd.DataFrame(data): Converte il dizionario in un DataFrame Pandas per lavorare comodamente sui dati."
   ]
  },
  {
   "cell_type": "code",
   "execution_count": 3,
   "id": "4fcd5b54",
   "metadata": {},
   "outputs": [
    {
     "data": {
      "text/plain": [
       "array(['Harry Potter', 'Sherlock Holmes', 'Lord of the Rings',\n",
       "       'Gone Girl', 'Pride and Prejudice', 'Moby Dick', '1984',\n",
       "       'War and Peace'], dtype=object)"
      ]
     },
     "execution_count": 3,
     "metadata": {},
     "output_type": "execute_result"
    }
   ],
   "source": [
    "df['Book'].values"
   ]
  },
  {
   "cell_type": "code",
   "execution_count": 4,
   "id": "5afb949a",
   "metadata": {},
   "outputs": [
    {
     "data": {
      "text/html": [
       "<div>\n",
       "<style scoped>\n",
       "    .dataframe tbody tr th:only-of-type {\n",
       "        vertical-align: middle;\n",
       "    }\n",
       "\n",
       "    .dataframe tbody tr th {\n",
       "        vertical-align: top;\n",
       "    }\n",
       "\n",
       "    .dataframe thead th {\n",
       "        text-align: right;\n",
       "    }\n",
       "</style>\n",
       "<table border=\"1\" class=\"dataframe\">\n",
       "  <thead>\n",
       "    <tr style=\"text-align: right;\">\n",
       "      <th></th>\n",
       "      <th>Harry Potter</th>\n",
       "      <th>Sherlock Holmes</th>\n",
       "      <th>Lord of the Rings</th>\n",
       "      <th>Gone Girl</th>\n",
       "      <th>Pride and Prejudice</th>\n",
       "      <th>Moby Dick</th>\n",
       "      <th>1984</th>\n",
       "      <th>War and Peace</th>\n",
       "    </tr>\n",
       "    <tr>\n",
       "      <th>Book</th>\n",
       "      <th></th>\n",
       "      <th></th>\n",
       "      <th></th>\n",
       "      <th></th>\n",
       "      <th></th>\n",
       "      <th></th>\n",
       "      <th></th>\n",
       "      <th></th>\n",
       "    </tr>\n",
       "  </thead>\n",
       "  <tbody>\n",
       "    <tr>\n",
       "      <th>Harry Potter</th>\n",
       "      <td>1.000000</td>\n",
       "      <td>0.500000</td>\n",
       "      <td>1.000000</td>\n",
       "      <td>0.000000</td>\n",
       "      <td>1.000000</td>\n",
       "      <td>1.000000</td>\n",
       "      <td>0.707107</td>\n",
       "      <td>1.000000</td>\n",
       "    </tr>\n",
       "    <tr>\n",
       "      <th>Sherlock Holmes</th>\n",
       "      <td>0.500000</td>\n",
       "      <td>1.000000</td>\n",
       "      <td>0.500000</td>\n",
       "      <td>0.707107</td>\n",
       "      <td>0.500000</td>\n",
       "      <td>0.500000</td>\n",
       "      <td>0.000000</td>\n",
       "      <td>0.500000</td>\n",
       "    </tr>\n",
       "    <tr>\n",
       "      <th>Lord of the Rings</th>\n",
       "      <td>1.000000</td>\n",
       "      <td>0.500000</td>\n",
       "      <td>1.000000</td>\n",
       "      <td>0.000000</td>\n",
       "      <td>1.000000</td>\n",
       "      <td>1.000000</td>\n",
       "      <td>0.707107</td>\n",
       "      <td>1.000000</td>\n",
       "    </tr>\n",
       "    <tr>\n",
       "      <th>Gone Girl</th>\n",
       "      <td>0.000000</td>\n",
       "      <td>0.707107</td>\n",
       "      <td>0.000000</td>\n",
       "      <td>1.000000</td>\n",
       "      <td>0.000000</td>\n",
       "      <td>0.000000</td>\n",
       "      <td>0.000000</td>\n",
       "      <td>0.000000</td>\n",
       "    </tr>\n",
       "    <tr>\n",
       "      <th>Pride and Prejudice</th>\n",
       "      <td>1.000000</td>\n",
       "      <td>0.500000</td>\n",
       "      <td>1.000000</td>\n",
       "      <td>0.000000</td>\n",
       "      <td>1.000000</td>\n",
       "      <td>1.000000</td>\n",
       "      <td>0.707107</td>\n",
       "      <td>1.000000</td>\n",
       "    </tr>\n",
       "    <tr>\n",
       "      <th>Moby Dick</th>\n",
       "      <td>1.000000</td>\n",
       "      <td>0.500000</td>\n",
       "      <td>1.000000</td>\n",
       "      <td>0.000000</td>\n",
       "      <td>1.000000</td>\n",
       "      <td>1.000000</td>\n",
       "      <td>0.707107</td>\n",
       "      <td>1.000000</td>\n",
       "    </tr>\n",
       "    <tr>\n",
       "      <th>1984</th>\n",
       "      <td>0.707107</td>\n",
       "      <td>0.000000</td>\n",
       "      <td>0.707107</td>\n",
       "      <td>0.000000</td>\n",
       "      <td>0.707107</td>\n",
       "      <td>0.707107</td>\n",
       "      <td>1.000000</td>\n",
       "      <td>0.707107</td>\n",
       "    </tr>\n",
       "    <tr>\n",
       "      <th>War and Peace</th>\n",
       "      <td>1.000000</td>\n",
       "      <td>0.500000</td>\n",
       "      <td>1.000000</td>\n",
       "      <td>0.000000</td>\n",
       "      <td>1.000000</td>\n",
       "      <td>1.000000</td>\n",
       "      <td>0.707107</td>\n",
       "      <td>1.000000</td>\n",
       "    </tr>\n",
       "  </tbody>\n",
       "</table>\n",
       "</div>"
      ],
      "text/plain": [
       "                     Harry Potter  Sherlock Holmes  Lord of the Rings  \\\n",
       "Book                                                                    \n",
       "Harry Potter             1.000000         0.500000           1.000000   \n",
       "Sherlock Holmes          0.500000         1.000000           0.500000   \n",
       "Lord of the Rings        1.000000         0.500000           1.000000   \n",
       "Gone Girl                0.000000         0.707107           0.000000   \n",
       "Pride and Prejudice      1.000000         0.500000           1.000000   \n",
       "Moby Dick                1.000000         0.500000           1.000000   \n",
       "1984                     0.707107         0.000000           0.707107   \n",
       "War and Peace            1.000000         0.500000           1.000000   \n",
       "\n",
       "                     Gone Girl  Pride and Prejudice  Moby Dick      1984  \\\n",
       "Book                                                                       \n",
       "Harry Potter          0.000000             1.000000   1.000000  0.707107   \n",
       "Sherlock Holmes       0.707107             0.500000   0.500000  0.000000   \n",
       "Lord of the Rings     0.000000             1.000000   1.000000  0.707107   \n",
       "Gone Girl             1.000000             0.000000   0.000000  0.000000   \n",
       "Pride and Prejudice   0.000000             1.000000   1.000000  0.707107   \n",
       "Moby Dick             0.000000             1.000000   1.000000  0.707107   \n",
       "1984                  0.000000             0.707107   0.707107  1.000000   \n",
       "War and Peace         0.000000             1.000000   1.000000  0.707107   \n",
       "\n",
       "                     War and Peace  \n",
       "Book                                \n",
       "Harry Potter              1.000000  \n",
       "Sherlock Holmes           0.500000  \n",
       "Lord of the Rings         1.000000  \n",
       "Gone Girl                 0.000000  \n",
       "Pride and Prejudice       1.000000  \n",
       "Moby Dick                 1.000000  \n",
       "1984                      0.707107  \n",
       "War and Peace             1.000000  "
      ]
     },
     "execution_count": 4,
     "metadata": {},
     "output_type": "execute_result"
    }
   ],
   "source": [
    "# Compute similarity based on genres\n",
    "features = df[['Fiction', 'Mystery', 'Adventure']]\n",
    "similarity_matrix = cosine_similarity(features)\n",
    "\n",
    "# Convert to Dataframe and give index 'Book'\n",
    "similarity_matrix_df = pd.DataFrame(similarity_matrix, columns=df['Book'].values)\n",
    "similarity_matrix_df.index = df['Book']\n",
    "similarity_matrix_df"
   ]
  },
  {
   "cell_type": "markdown",
   "id": "db5cb2a6-af98-4614-bd2a-aa908e2993cb",
   "metadata": {},
   "source": [
    "features: Seleziona solo le colonne che contengono i generi (esclude la colonna \"Book\").\n",
    "\n",
    "cosine_similarity(features): Calcola la similarità del coseno tra le righe del DataFrame.\n",
    "\n",
    "similarity_matrix_df: Converte la matrice di similarità in un DataFrame, assegnando i nomi dei libri come indice e colonne."
   ]
  },
  {
   "cell_type": "code",
   "execution_count": 5,
   "id": "3c9c17fb",
   "metadata": {},
   "outputs": [
    {
     "data": {
      "text/plain": [
       "Harry Potter           1.000000\n",
       "Sherlock Holmes        0.500000\n",
       "Lord of the Rings      1.000000\n",
       "Gone Girl              0.000000\n",
       "Pride and Prejudice    1.000000\n",
       "Moby Dick              1.000000\n",
       "1984                   0.707107\n",
       "War and Peace          1.000000\n",
       "Name: Harry Potter, dtype: float64"
      ]
     },
     "execution_count": 5,
     "metadata": {},
     "output_type": "execute_result"
    }
   ],
   "source": [
    "similarity_matrix_df.loc['Harry Potter']"
   ]
  },
  {
   "cell_type": "code",
   "execution_count": 8,
   "id": "261ab89c",
   "metadata": {},
   "outputs": [
    {
     "data": {
      "text/plain": [
       "Book\n",
       "Harry Potter           1.000000\n",
       "Sherlock Holmes        0.500000\n",
       "Lord of the Rings      1.000000\n",
       "Gone Girl              0.000000\n",
       "Pride and Prejudice    1.000000\n",
       "Moby Dick              1.000000\n",
       "1984                   0.707107\n",
       "War and Peace          1.000000\n",
       "Name: Harry Potter, dtype: float64"
      ]
     },
     "execution_count": 8,
     "metadata": {},
     "output_type": "execute_result"
    }
   ],
   "source": [
    "# Get recommendation based on \"Harry Potter\" book\n",
    "\n",
    "### get the book column\n",
    "similar_scores = similarity_matrix_df['Harry Potter']\n",
    "similar_scores"
   ]
  },
  {
   "cell_type": "markdown",
   "id": "07684982-71f2-415c-b48b-417c265fc4ca",
   "metadata": {},
   "source": [
    "similar_scores: Estrae la colonna di punteggi di similarità per \"Harry Potter\"."
   ]
  },
  {
   "cell_type": "code",
   "execution_count": 9,
   "id": "629ae8fe",
   "metadata": {},
   "outputs": [
    {
     "data": {
      "text/plain": [
       "Book\n",
       "Harry Potter           1.000000\n",
       "Lord of the Rings      1.000000\n",
       "Pride and Prejudice    1.000000\n",
       "Moby Dick              1.000000\n",
       "War and Peace          1.000000\n",
       "1984                   0.707107\n",
       "Sherlock Holmes        0.500000\n",
       "Gone Girl              0.000000\n",
       "Name: Harry Potter, dtype: float64"
      ]
     },
     "execution_count": 9,
     "metadata": {},
     "output_type": "execute_result"
    }
   ],
   "source": [
    "### sort array from higher to lower values\n",
    "similar_scores_sorted = similar_scores.sort_values(ascending=False)\n",
    "similar_scores_sorted"
   ]
  },
  {
   "cell_type": "markdown",
   "id": "c148eb19-102d-40cb-ab8b-10957904ef93",
   "metadata": {},
   "source": [
    "sort_values(ascending=False): Ordina i punteggi dal più alto al più basso."
   ]
  },
  {
   "cell_type": "code",
   "execution_count": 13,
   "id": "31b2a5f7",
   "metadata": {},
   "outputs": [
    {
     "data": {
      "text/plain": [
       "Book\n",
       "Lord of the Rings      1.000000\n",
       "Pride and Prejudice    1.000000\n",
       "Moby Dick              1.000000\n",
       "War and Peace          1.000000\n",
       "1984                   0.707107\n",
       "Sherlock Holmes        0.500000\n",
       "Gone Girl              0.000000\n",
       "Name: Harry Potter, dtype: float64"
      ]
     },
     "execution_count": 13,
     "metadata": {},
     "output_type": "execute_result"
    }
   ],
   "source": [
    "similar_scores_sorted[similar_scores_sorted.index != 'Harry Potter']"
   ]
  },
  {
   "cell_type": "markdown",
   "id": "3dc6ea23-4279-47f9-8ef0-45689dca405d",
   "metadata": {},
   "source": [
    "similar_scores_sorted.index != 'Harry Potter': Esclude \"Harry Potter\" dalla lista ordinata per evitare di raccomandare il libro stesso."
   ]
  },
  {
   "cell_type": "code",
   "execution_count": 10,
   "id": "53a1b422",
   "metadata": {},
   "outputs": [],
   "source": [
    "# Provide as a function to recommend similar books\n",
    "def recommend(book_name, similarity_matrix_df, i):\n",
    "    \n",
    "    if book_name not in similarity_matrix_df.columns:\n",
    "        return print(\"There is no book with this title in our dataset\")\n",
    "    \n",
    "    similar_scores = similarity_matrix_df[book_name]\n",
    "    similar_scores_sorted = similar_scores.sort_values(ascending=False)\n",
    "    \n",
    "    result = similar_scores_sorted[similar_scores_sorted.index != book_name]\n",
    "    \n",
    "    return list(result[:i].index)"
   ]
  },
  {
   "cell_type": "markdown",
   "id": "0ade0214-3c81-4429-b45c-a309b485118c",
   "metadata": {},
   "source": [
    "recommend: Definisce una funzione che prende in input il nome di un libro, la matrice di similarità e il numero massimo di raccomandazioni.\n",
    "\n",
    "result[:i]: Limita il risultato ai primi i libri più simili."
   ]
  },
  {
   "cell_type": "code",
   "execution_count": 11,
   "id": "2f0859d5",
   "metadata": {},
   "outputs": [
    {
     "name": "stdout",
     "output_type": "stream",
     "text": [
      "There is no book with this title in our dataset\n",
      "None\n"
     ]
    }
   ],
   "source": [
    "print(recommend('ABC', similarity_matrix_df, 3))"
   ]
  },
  {
   "cell_type": "code",
   "execution_count": 12,
   "id": "45493b2a",
   "metadata": {},
   "outputs": [
    {
     "name": "stdout",
     "output_type": "stream",
     "text": [
      "['Lord of the Rings', 'Pride and Prejudice', 'Moby Dick', 'War and Peace', '1984']\n"
     ]
    }
   ],
   "source": [
    "# Example usage\n",
    "print(recommend('Harry Potter', similarity_matrix_df, 5))"
   ]
  },
  {
   "cell_type": "code",
   "execution_count": 13,
   "id": "d1512523",
   "metadata": {},
   "outputs": [
    {
     "name": "stdout",
     "output_type": "stream",
     "text": [
      "['Harry Potter', 'Lord of the Rings', 'Pride and Prejudice']\n"
     ]
    }
   ],
   "source": [
    "# Example usage\n",
    "print(recommend('1984', similarity_matrix_df, 3))"
   ]
  },
  {
   "cell_type": "code",
   "execution_count": null,
   "id": "c9854457",
   "metadata": {},
   "outputs": [],
   "source": []
  },
  {
   "cell_type": "markdown",
   "id": "8c27347e",
   "metadata": {},
   "source": [
    "## Neighborhood-Based Collaborative Filtering\n",
    "\n",
    "Neighborhood-Based Collaborative Filtering is a type of Collaborative Filtering that makes recommendations based on the preferences of other similar users, often referred to as \"neighbors.\" This method leverages the idea that users who have historically agreed on items (i.e., have similar tastes) will continue to agree in the future."
   ]
  },
  {
   "cell_type": "code",
   "execution_count": 14,
   "id": "af605577",
   "metadata": {},
   "outputs": [
    {
     "data": {
      "text/html": [
       "<div>\n",
       "<style scoped>\n",
       "    .dataframe tbody tr th:only-of-type {\n",
       "        vertical-align: middle;\n",
       "    }\n",
       "\n",
       "    .dataframe tbody tr th {\n",
       "        vertical-align: top;\n",
       "    }\n",
       "\n",
       "    .dataframe thead th {\n",
       "        text-align: right;\n",
       "    }\n",
       "</style>\n",
       "<table border=\"1\" class=\"dataframe\">\n",
       "  <thead>\n",
       "    <tr style=\"text-align: right;\">\n",
       "      <th></th>\n",
       "      <th>Product A</th>\n",
       "      <th>Product B</th>\n",
       "      <th>Product C</th>\n",
       "      <th>Product D</th>\n",
       "      <th>Product E</th>\n",
       "    </tr>\n",
       "  </thead>\n",
       "  <tbody>\n",
       "    <tr>\n",
       "      <th>User1</th>\n",
       "      <td>5.0</td>\n",
       "      <td>3.0</td>\n",
       "      <td>4.0</td>\n",
       "      <td>NaN</td>\n",
       "      <td>NaN</td>\n",
       "    </tr>\n",
       "    <tr>\n",
       "      <th>User2</th>\n",
       "      <td>4.0</td>\n",
       "      <td>NaN</td>\n",
       "      <td>5.0</td>\n",
       "      <td>3.0</td>\n",
       "      <td>NaN</td>\n",
       "    </tr>\n",
       "    <tr>\n",
       "      <th>User3</th>\n",
       "      <td>NaN</td>\n",
       "      <td>NaN</td>\n",
       "      <td>NaN</td>\n",
       "      <td>4.0</td>\n",
       "      <td>5.0</td>\n",
       "    </tr>\n",
       "    <tr>\n",
       "      <th>User4</th>\n",
       "      <td>1.0</td>\n",
       "      <td>1.0</td>\n",
       "      <td>NaN</td>\n",
       "      <td>2.0</td>\n",
       "      <td>4.0</td>\n",
       "    </tr>\n",
       "    <tr>\n",
       "      <th>User5</th>\n",
       "      <td>NaN</td>\n",
       "      <td>4.0</td>\n",
       "      <td>2.0</td>\n",
       "      <td>5.0</td>\n",
       "      <td>3.0</td>\n",
       "    </tr>\n",
       "  </tbody>\n",
       "</table>\n",
       "</div>"
      ],
      "text/plain": [
       "       Product A  Product B  Product C  Product D  Product E\n",
       "User1        5.0        3.0        4.0        NaN        NaN\n",
       "User2        4.0        NaN        5.0        3.0        NaN\n",
       "User3        NaN        NaN        NaN        4.0        5.0\n",
       "User4        1.0        1.0        NaN        2.0        4.0\n",
       "User5        NaN        4.0        2.0        5.0        3.0"
      ]
     },
     "execution_count": 14,
     "metadata": {},
     "output_type": "execute_result"
    }
   ],
   "source": [
    "# Step 1: Sample data (user-product interaction matrix)\n",
    "# Rows represent users and columns represent products. Values are ratings.\n",
    "data = {\n",
    "    'Product A': [5, 4, None, 1, None],\n",
    "    'Product B': [3, None, None, 1, 4],\n",
    "    'Product C': [4, 5, None, None, 2],\n",
    "    'Product D': [None, 3, 4, 2, 5],\n",
    "    'Product E': [None, None, 5, 4, 3],\n",
    "}\n",
    "\n",
    "# Create DataFrame\n",
    "df = pd.DataFrame(data, index=['User1', 'User2', 'User3', 'User4', 'User5'])\n",
    "df"
   ]
  },
  {
   "cell_type": "markdown",
   "id": "1036a733-5073-40ad-9815-fce93b2fb296",
   "metadata": {},
   "source": [
    "data: Dizionario con utenti (righe) e prodotti (colonne). I valori indicano i punteggi assegnati.\n",
    "\n",
    "pd.DataFrame: Crea un DataFrame con il dizionario e assegna i nomi degli utenti come indice."
   ]
  },
  {
   "cell_type": "code",
   "execution_count": 15,
   "id": "011af1f0",
   "metadata": {},
   "outputs": [
    {
     "data": {
      "text/html": [
       "<div>\n",
       "<style scoped>\n",
       "    .dataframe tbody tr th:only-of-type {\n",
       "        vertical-align: middle;\n",
       "    }\n",
       "\n",
       "    .dataframe tbody tr th {\n",
       "        vertical-align: top;\n",
       "    }\n",
       "\n",
       "    .dataframe thead th {\n",
       "        text-align: right;\n",
       "    }\n",
       "</style>\n",
       "<table border=\"1\" class=\"dataframe\">\n",
       "  <thead>\n",
       "    <tr style=\"text-align: right;\">\n",
       "      <th></th>\n",
       "      <th>User1</th>\n",
       "      <th>User2</th>\n",
       "      <th>User3</th>\n",
       "      <th>User4</th>\n",
       "      <th>User5</th>\n",
       "    </tr>\n",
       "  </thead>\n",
       "  <tbody>\n",
       "    <tr>\n",
       "      <th>User1</th>\n",
       "      <td>1.000000</td>\n",
       "      <td>0.800000</td>\n",
       "      <td>0.000000</td>\n",
       "      <td>0.241209</td>\n",
       "      <td>0.384900</td>\n",
       "    </tr>\n",
       "    <tr>\n",
       "      <th>User2</th>\n",
       "      <td>0.800000</td>\n",
       "      <td>1.000000</td>\n",
       "      <td>0.265036</td>\n",
       "      <td>0.301511</td>\n",
       "      <td>0.481125</td>\n",
       "    </tr>\n",
       "    <tr>\n",
       "      <th>User3</th>\n",
       "      <td>0.000000</td>\n",
       "      <td>0.265036</td>\n",
       "      <td>1.000000</td>\n",
       "      <td>0.932298</td>\n",
       "      <td>0.743839</td>\n",
       "    </tr>\n",
       "    <tr>\n",
       "      <th>User4</th>\n",
       "      <td>0.241209</td>\n",
       "      <td>0.301511</td>\n",
       "      <td>0.932298</td>\n",
       "      <td>1.000000</td>\n",
       "      <td>0.754337</td>\n",
       "    </tr>\n",
       "    <tr>\n",
       "      <th>User5</th>\n",
       "      <td>0.384900</td>\n",
       "      <td>0.481125</td>\n",
       "      <td>0.743839</td>\n",
       "      <td>0.754337</td>\n",
       "      <td>1.000000</td>\n",
       "    </tr>\n",
       "  </tbody>\n",
       "</table>\n",
       "</div>"
      ],
      "text/plain": [
       "          User1     User2     User3     User4     User5\n",
       "User1  1.000000  0.800000  0.000000  0.241209  0.384900\n",
       "User2  0.800000  1.000000  0.265036  0.301511  0.481125\n",
       "User3  0.000000  0.265036  1.000000  0.932298  0.743839\n",
       "User4  0.241209  0.301511  0.932298  1.000000  0.754337\n",
       "User5  0.384900  0.481125  0.743839  0.754337  1.000000"
      ]
     },
     "execution_count": 15,
     "metadata": {},
     "output_type": "execute_result"
    }
   ],
   "source": [
    "# Step 2: Calculate similarity between users (using cosine similarity)\n",
    "user_similarity = cosine_similarity(df.fillna(0))\n",
    "\n",
    "# Step 3: Convert similarity into a DataFrame\n",
    "user_similarity_df = pd.DataFrame(user_similarity, columns=df.index, index=df.index)\n",
    "user_similarity_df"
   ]
  },
  {
   "cell_type": "markdown",
   "id": "c154336e-15ab-4512-84fe-d5a5456af39d",
   "metadata": {},
   "source": [
    "df.fillna(0): Sostituisce i valori mancanti con 0 per calcolare la similarità.\n",
    "\n",
    "cosine_similarity: Calcola la similarità del coseno tra utenti basandosi sui punteggi. Cosine similarity misura quanto due utenti sono simili nelle loro valutazioni.\n",
    "\n",
    "user_similarity_df: Crea un DataFrame con la matrice di similarità tra utenti."
   ]
  },
  {
   "cell_type": "code",
   "execution_count": 23,
   "id": "aebebfe3",
   "metadata": {},
   "outputs": [
    {
     "data": {
      "text/plain": [
       "Product A    5.0\n",
       "Product B    3.0\n",
       "Product C    4.0\n",
       "Product D    NaN\n",
       "Product E    NaN\n",
       "Name: User1, dtype: float64"
      ]
     },
     "execution_count": 23,
     "metadata": {},
     "output_type": "execute_result"
    }
   ],
   "source": [
    "# use User1 as example\n",
    "\n",
    "# Get ratings for the specified user\n",
    "user_ratings = df.loc['User1']\n",
    "user_ratings"
   ]
  },
  {
   "cell_type": "code",
   "execution_count": 24,
   "id": "22b23d77",
   "metadata": {},
   "outputs": [
    {
     "data": {
      "text/plain": [
       "User1    1.000000\n",
       "User2    0.800000\n",
       "User3    0.000000\n",
       "User4    0.241209\n",
       "User5    0.384900\n",
       "Name: User1, dtype: float64"
      ]
     },
     "execution_count": 24,
     "metadata": {},
     "output_type": "execute_result"
    }
   ],
   "source": [
    "# Get the similarity scores of the user with all other users\n",
    "similar_users = user_similarity_df.loc['User1']\n",
    "similar_users"
   ]
  },
  {
   "cell_type": "code",
   "execution_count": 25,
   "id": "308ad0c2",
   "metadata": {},
   "outputs": [
    {
     "data": {
      "text/plain": [
       "Product D   NaN\n",
       "Product E   NaN\n",
       "Name: User1, dtype: float64"
      ]
     },
     "execution_count": 25,
     "metadata": {},
     "output_type": "execute_result"
    }
   ],
   "source": [
    "# Filter out products already rated by the user\n",
    "unrated_products = user_ratings[user_ratings.isna()]\n",
    "unrated_products"
   ]
  },
  {
   "cell_type": "markdown",
   "id": "324ac094-0670-4efa-ba22-5bf3f8b29c70",
   "metadata": {},
   "source": [
    "unrated_products: Identifica i prodotti non valutati dall'utente."
   ]
  },
  {
   "cell_type": "code",
   "execution_count": 26,
   "id": "73838fcd",
   "metadata": {},
   "outputs": [
    {
     "data": {
      "text/plain": [
       "(2.4, 0.7999999999999999)"
      ]
     },
     "execution_count": 26,
     "metadata": {},
     "output_type": "execute_result"
    }
   ],
   "source": [
    "weighted_sum = user_similarity_df['User1']['User2'] * df.loc['User2', 'Product D']\n",
    "total_weight = abs(user_similarity_df['User1']['User2'])\n",
    "\n",
    "weighted_sum, total_weight"
   ]
  },
  {
   "cell_type": "markdown",
   "id": "b3143d04-0ab5-4e94-81d5-f475c8a84e0e",
   "metadata": {},
   "source": [
    "weighted_sum: Calcola la somma pesata dei punteggi degli altri utenti per un prodotto."
   ]
  },
  {
   "cell_type": "code",
   "execution_count": 27,
   "id": "ce40c44c",
   "metadata": {},
   "outputs": [
    {
     "data": {
      "text/plain": [
       "3.0"
      ]
     },
     "execution_count": 27,
     "metadata": {},
     "output_type": "execute_result"
    }
   ],
   "source": [
    "weighted_rating_Product_D = weighted_sum / total_weight\n",
    "weighted_rating_Product_D"
   ]
  },
  {
   "cell_type": "markdown",
   "id": "89a78fa4-48e2-48f5-9dc8-fbc34e83b843",
   "metadata": {},
   "source": [
    "weighted_rating_Product_D: Ottiene il punteggio stimato dividendo la somma pesata per il peso totale."
   ]
  },
  {
   "cell_type": "markdown",
   "id": "430ffaeb-d36c-44d1-ae4a-371ce89cb369",
   "metadata": {},
   "source": [
    "##### Se User2 ha dato 3 a Product D, e la similarità tra User1 e User2 è 0.8, allora il voto stimato per Product D sarà circa 3.0.\n",
    "Ottima domanda! Il motivo per cui il voto stimato di **User1** per **Product D** è **circa 3.0** è dato dalla formula della media pesata basata sulla similarità tra utenti.  \n",
    "\n",
    "La formula generale è:  \n",
    "\n",
    "\\[$\n",
    "\\hat{r}_{u, p} = \\frac{\\sum_{v \\in N} \\text{sim}(u,v) \\cdot r_{v, p}}{\\sum_{v \\in N} |\\text{sim}(u,v)|}$\n",
    "\\]\n",
    "\n",
    "Dove:  \n",
    "- \\( $\\hat{r}_{u, p} $\\) è la valutazione stimata di **User1** per **Product D**.  \n",
    "- \\($ N $\\) è il set di utenti che hanno valutato **Product D**.  \n",
    "- \\( $\\text{sim}(u,v) $\\) è la similarità tra **User1** e un altro utente **User2**.  \n",
    "- \\($ r_{v, p} $\\) è la valutazione data da **User2** a **Product D**.  \n",
    "\n",
    "### **Applicazione pratica**  \n",
    "Se abbiamo:  \n",
    "- **User2** ha dato **3** a **Product D**  \n",
    "- Similarità tra **User1** e **User2** = **0.8**  \n",
    "\n",
    "Allora applichiamo la formula:  \n",
    "\n",
    "\\[$\n",
    "\\hat{r}_{User1, ProductD} = \\frac{(0.8 \\times 3)}{0.8} = 3.0$\n",
    "\\]\n",
    "\n",
    "Poiché **User2** è l'unico utente con una valutazione per **Product D**, la previsione del voto per **User1** è esattamente **3.0**.  \n",
    "\n",
    "Se ci fossero più utenti con valutazioni su **Product D**, la formula includerebbe anche i loro contributi, ponderati in base alla similarità con **User1**.  \n",
    "\n",
    "---\n",
    "\n",
    "**Riassunto**:  \n",
    "Il valore stimato è **una media pesata** delle valutazioni degli utenti simili. Maggiore è la similarità con l'utente target, più peso ha la loro valutazione nel calcolo. "
   ]
  },
  {
   "cell_type": "code",
   "execution_count": 28,
   "id": "1bf6e79a",
   "metadata": {},
   "outputs": [],
   "source": [
    "# Calculate weighted sum of ratings for EACH unrated product\n",
    "weighted_ratings = {}\n",
    "for product in unrated_products.index:\n",
    "    weighted_sum = 0\n",
    "    total_weight = 0\n",
    "    \n",
    "    for other_user in df.index:\n",
    "        if not np.isnan(df.loc[other_user, product]):\n",
    "            weighted_sum += user_similarity_df['User1'][other_user] * df.loc[other_user, product]\n",
    "            total_weight += abs(user_similarity_df['User1'][other_user])\n",
    "            \n",
    "    weighted_ratings[product] = weighted_sum / total_weight if total_weight != 0 else 0"
   ]
  },
  {
   "cell_type": "markdown",
   "id": "a303f092-522c-456d-a0d6-663422640c52",
   "metadata": {},
   "source": [
    "Il codice  calcola la somma pesata delle valutazioni per ciascun prodotto non valutato da User1, utilizzando un sistema di collaborative filtering user-based.\n",
    "  \n",
    "\n",
    "### **Come funziona?**\n",
    "1. **Scorre i prodotti non valutati da User1**:  \n",
    "   - `for product in unrated_products.index:`  \n",
    "\n",
    "2. **Per ogni prodotto, calcola la somma pesata delle valutazioni degli altri utenti**:  \n",
    "   - **`weighted_sum`** → Somma dei voti degli altri utenti, pesati per la similarità con **User1**.  \n",
    "   - **`total_weight`** → Somma dei valori assoluti delle similarità, usata per la normalizzazione.  \n",
    "\n",
    "3. **Itera su tutti gli altri utenti**:  \n",
    "   - Se l'utente **ha dato un voto** a quel prodotto (`if not np.isnan(df.loc[other_user, product])`), allora:  \n",
    "     - Il voto viene **moltiplicato per la similarità tra User1 e quell'utente**.  \n",
    "     - Il valore assoluto della similarità viene sommato a `total_weight` per la normalizzazione.  \n",
    "\n",
    "4. **Calcola il voto stimato**:  \n",
    "   - Se `total_weight > 0`, il voto stimato è **weighted_sum / total_weight**.  \n",
    "   - Se nessun utente ha valutato quel prodotto (`total_weight == 0`), assegna 0 per evitare errori di divisione per zero.  \n",
    "\n",
    "---\n",
    "\n",
    "### **Esempio pratico**\n",
    "Immaginiamo questa matrice di voti:  \n",
    "\n",
    "| User  | Product A | Product B | Product C | Product D |\n",
    "|-------|----------|----------|----------|----------|\n",
    "| User1 | 5        | NaN      | 2        | NaN      |\n",
    "| User2 | 4        | 3        | NaN      | 3        |\n",
    "| User3 | NaN      | 5        | 1        | NaN      |\n",
    "\n",
    "E la matrice di similarità tra utenti:  \n",
    "\n",
    "|       | User1 | User2 | User3 |\n",
    "|-------|-------|-------|-------|\n",
    "| User1 | 1.00  | 0.8   | 0.3   |\n",
    "| User2 | 0.8   | 1.00  | 0.5   |\n",
    "| User3 | 0.3   | 0.5   | 1.00  |\n",
    "\n",
    "#### **Calcoliamo il voto stimato per Product B (non valutato da User1)**\n",
    "- **User2 ha dato 3 a Product B** → peso = **0.8**  \n",
    "- **User3 ha dato 5 a Product B** → peso = **0.3**  \n",
    "\n",
    "\\[$\n",
    "\\hat{r}_{User1, Product B} = \\frac{(0.8 \\times 3) + (0.3 \\times 5)}{0.8 + 0.3} = \\frac{2.4 + 1.5}{1.1} = \\mathbf{3.54} $\n",
    "\\]\n",
    "\n",
    "Quindi **User1 probabilmente valuterà Product B circa 3.54**.  \n",
    "\n",
    "---\n",
    "\n"
   ]
  },
  {
   "cell_type": "code",
   "execution_count": 31,
   "id": "b336cb3a",
   "metadata": {},
   "outputs": [
    {
     "data": {
      "text/plain": [
       "{'Product D': 3.370652726191084, 'Product E': 3.3852507748271905}"
      ]
     },
     "execution_count": 31,
     "metadata": {},
     "output_type": "execute_result"
    }
   ],
   "source": [
    "weighted_ratings"
   ]
  },
  {
   "cell_type": "code",
   "execution_count": 32,
   "id": "5ebdcb2f",
   "metadata": {},
   "outputs": [
    {
     "data": {
      "text/plain": [
       "[('Product E', 3.3852507748271905), ('Product D', 3.370652726191084)]"
      ]
     },
     "execution_count": 32,
     "metadata": {},
     "output_type": "execute_result"
    }
   ],
   "source": [
    "# Sort products by the weighted rating (recommend the top n products)\n",
    "recommended_products = sorted(weighted_ratings.items(), key=lambda x: x[1], reverse=True)\n",
    "recommended_products"
   ]
  },
  {
   "cell_type": "markdown",
   "id": "50dc1150-f8e8-44ee-b23e-b533dc341d72",
   "metadata": {},
   "source": [
    "Il codice **ordina i prodotti** in base al punteggio stimato e restituisce i migliori da consigliare.  \n",
    "\n",
    "### **Come funziona?**\n",
    "1. **`weighted_ratings.items()`** → Converte il dizionario `{prodotto: punteggio}` in una lista di tuple `[(prodotto1, punteggio1), (prodotto2, punteggio2), ...]`.\n",
    "2. **`sorted(..., key=lambda x: x[1], reverse=True)`** → Ordina la lista in base ai punteggi stimati (`x[1]`), dal più alto al più basso.\n",
    "3. **`recommended_products`** → Contiene l'elenco dei prodotti ordinati per rilevanza.\n",
    "\n",
    "---\n",
    "\n",
    "### **Esempio pratico**\n",
    "Se `weighted_ratings` fosse:\n",
    "\n",
    "```python\n",
    "{\n",
    "    'Product A': 3.5,\n",
    "    'Product B': 4.2,\n",
    "    'Product C': 2.8,\n",
    "    'Product D': 4.9\n",
    "}\n",
    "```\n",
    "\n",
    "Dopo l'ordinamento:\n",
    "\n",
    "```python\n",
    "[\n",
    "    ('Product D', 4.9),\n",
    "    ('Product B', 4.2),\n",
    "    ('Product A', 3.5),\n",
    "    ('Product C', 2.8)\n",
    "]\n",
    "```\n",
    "\n",
    "Se vogliamo **consigliare solo i primi 3 prodotti**, possiamo fare:\n",
    "\n",
    "```python\n",
    "top_n = 3\n",
    "recommended_products[:top_n]\n",
    "```\n"
   ]
  },
  {
   "cell_type": "code",
   "execution_count": 33,
   "id": "035e5acb-3f73-4468-b243-4bd4c9d3785f",
   "metadata": {},
   "outputs": [
    {
     "data": {
      "text/plain": [
       "[('Product E', 3.3852507748271905), ('Product D', 3.370652726191084)]"
      ]
     },
     "execution_count": 33,
     "metadata": {},
     "output_type": "execute_result"
    }
   ],
   "source": [
    "top_n = 3\n",
    "recommended_products[:top_n]"
   ]
  },
  {
   "cell_type": "code",
   "execution_count": 35,
   "id": "66ec78c7",
   "metadata": {},
   "outputs": [],
   "source": [
    "# Step 4: Make recommendations as a Function for a specific user (e.g., User1)\n",
    "#FUNZIONE PER RACCOMANDARE PRODOTTI ALL'UTENTE\n",
    "def recommend_products(user, df, user_similarity_df, n_recommendations=2):\n",
    "    \n",
    "    user_ratings = df.loc[user]\n",
    "    \n",
    "    similar_users = user_similarity_df.loc[user]\n",
    "    \n",
    "    unrated_products = user_ratings[user_ratings.isna()]\n",
    "    \n",
    "    # Calculate weighted sum of ratings for EACH unrated product\n",
    "    weighted_ratings = {}\n",
    "    for product in unrated_products.index:\n",
    "        weighted_sum = 0\n",
    "        total_weight = 0\n",
    "\n",
    "        for other_user in df.index:\n",
    "            if not np.isnan(df.loc[other_user, product]):\n",
    "                weighted_sum += user_similarity_df[user][other_user] * df.loc[other_user, product]\n",
    "                total_weight += abs(user_similarity_df[user][other_user])\n",
    "\n",
    "        weighted_ratings[product] = weighted_sum / total_weight if total_weight != 0 else 0\n",
    "        \n",
    "    recommended_products = sorted(weighted_ratings.items(), key=lambda x: x[1], reverse=True)[:n_recommendations]\n",
    "\n",
    "    return recommended_products"
   ]
  },
  {
   "cell_type": "markdown",
   "id": "786b6739-4f6b-4e82-8664-6bfb657886a4",
   "metadata": {},
   "source": []
  },
  {
   "cell_type": "code",
   "execution_count": 36,
   "id": "7f58c0c1",
   "metadata": {},
   "outputs": [
    {
     "name": "stdout",
     "output_type": "stream",
     "text": [
      "Recommended products for User1: [('Product E', 3.3852507748271905), ('Product D', 3.370652726191084)]\n"
     ]
    }
   ],
   "source": [
    "# Example: Recommend 2 products for User1\n",
    "recommended_products = recommend_products('User1', df,user_similarity_df, n_recommendations=2)\n",
    "print(\"Recommended products for User1:\", recommended_products)"
   ]
  },
  {
   "cell_type": "code",
   "execution_count": 38,
   "id": "0d471a62",
   "metadata": {},
   "outputs": [
    {
     "name": "stdout",
     "output_type": "stream",
     "text": [
      "Recommended products for User2: [('Product E', 3.7937431619817144), ('Product B', 2.92297823314207)]\n"
     ]
    }
   ],
   "source": [
    "# Example: Recommend 2 products for User1\n",
    "recommended_products = recommend_products('User2', df, user_similarity_df, n_recommendations=2)\n",
    "print(\"Recommended products for User2:\", recommended_products)"
   ]
  },
  {
   "cell_type": "code",
   "execution_count": null,
   "id": "27c995bc",
   "metadata": {},
   "outputs": [],
   "source": []
  }
 ],
 "metadata": {
  "kernelspec": {
   "display_name": "Python (.env)",
   "language": "python",
   "name": ".env"
  },
  "language_info": {
   "codemirror_mode": {
    "name": "ipython",
    "version": 3
   },
   "file_extension": ".py",
   "mimetype": "text/x-python",
   "name": "python",
   "nbconvert_exporter": "python",
   "pygments_lexer": "ipython3",
   "version": "3.11.9"
  }
 },
 "nbformat": 4,
 "nbformat_minor": 5
}
